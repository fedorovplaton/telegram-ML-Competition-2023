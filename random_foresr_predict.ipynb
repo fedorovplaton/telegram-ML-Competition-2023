{
 "cells": [
  {
   "cell_type": "code",
   "execution_count": 1,
   "id": "c924219d-4557-4725-af87-7d32840d7bcc",
   "metadata": {},
   "outputs": [],
   "source": [
    "from sklearn.datasets import make_classification"
   ]
  },
  {
   "cell_type": "code",
   "execution_count": 26,
   "id": "f7ecce08-f397-435e-8a71-00014e668355",
   "metadata": {},
   "outputs": [],
   "source": [
    "X, y = make_classification(\n",
    "    n_samples=1000,\n",
    "    n_features=4,\n",
    "    n_informative=2,\n",
    "    n_redundant=0,\n",
    "    random_state=0,\n",
    "    shuffle=False)\n"
   ]
  },
  {
   "cell_type": "code",
   "execution_count": 30,
   "id": "c42e28c3-5fa2-4f5d-83e5-7a8337daa0df",
   "metadata": {},
   "outputs": [],
   "source": [
    "from sklearn.ensemble import RandomForestClassifier\n",
    "import numpy as np\n",
    "\n",
    "class CustomRandomForestClassifier(RandomForestClassifier):\n",
    "    def predict(self, X):\n",
    "        proba = self.predict_proba(X)\n",
    "    \n",
    "        if self.n_outputs_ == 1:\n",
    "            return self.classes_.take(np.argmax(proba, axis=1), axis=0)\n",
    "        else:\n",
    "            n_samples = proba[0].shape[0]\n",
    "            # all dtypes should be the same, so just take the first\n",
    "            class_type = self.classes_[0].dtype\n",
    "            predictions = np.empty((n_samples, self.n_outputs_), dtype=class_type)\n",
    "    \n",
    "            for k in range(self.n_outputs_):\n",
    "                predictions[:, k] = self.classes_[k].take(\n",
    "                    np.argmax(proba[k], axis=1), axis=0\n",
    "                )\n",
    "    \n",
    "            return predictions"
   ]
  },
  {
   "cell_type": "code",
   "execution_count": 31,
   "id": "35e314c6-a833-4f53-8efd-8f52b8557dfe",
   "metadata": {},
   "outputs": [
    {
     "data": {
      "text/plain": [
       "array([1])"
      ]
     },
     "execution_count": 31,
     "metadata": {},
     "output_type": "execute_result"
    }
   ],
   "source": [
    "clf = CustomRandomForestClassifier(max_depth=2, random_state=0)\n",
    "clf.fit(X, y)\n",
    "clf.predict([[0, 0, 2, 0]])"
   ]
  }
 ],
 "metadata": {
  "kernelspec": {
   "display_name": "Python 3 (ipykernel)",
   "language": "python",
   "name": "python3"
  },
  "language_info": {
   "codemirror_mode": {
    "name": "ipython",
    "version": 3
   },
   "file_extension": ".py",
   "mimetype": "text/x-python",
   "name": "python",
   "nbconvert_exporter": "python",
   "pygments_lexer": "ipython3",
   "version": "3.10.13"
  }
 },
 "nbformat": 4,
 "nbformat_minor": 5
}
