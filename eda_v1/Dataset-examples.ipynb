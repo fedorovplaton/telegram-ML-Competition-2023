{
 "cells": [
  {
   "cell_type": "code",
   "execution_count": 1,
   "id": "c35ca7e3-0b42-4720-aa61-81095bd19df9",
   "metadata": {},
   "outputs": [],
   "source": [
    "%load_ext autoreload"
   ]
  },
  {
   "cell_type": "code",
   "execution_count": 2,
   "id": "4e20e4b6-799e-46d6-a1c0-2e29b313adeb",
   "metadata": {},
   "outputs": [],
   "source": [
    "%autoreload 2"
   ]
  },
  {
   "cell_type": "code",
   "execution_count": 3,
   "id": "2a923e68-4f42-4065-9a2e-7eff21918243",
   "metadata": {},
   "outputs": [],
   "source": [
    "import pandas as pd\n",
    "import gc\n",
    "import os\n",
    "import json\n",
    "from pathlib import Path\n",
    "from os.path import join as path_join\n",
    "import matplotlib.pyplot as plt"
   ]
  },
  {
   "cell_type": "code",
   "execution_count": 53,
   "id": "57886ccc-f54c-496c-bf68-5fea043e8484",
   "metadata": {},
   "outputs": [],
   "source": [
    "def load_dataset(path, max_samples_per_class=1000):\n",
    "    df = pd.read_parquet(path)\\\n",
    "            [[\"code\", \"tglang\", \"target\"]]\\\n",
    "            .reset_index()\\\n",
    "            .groupby(\"tglang\")\\\n",
    "            .apply(\n",
    "                lambda x: x[[\"target\", \"code\"]].sample(n=min(max_samples_per_class, x.shape[0]), random_state=137)\n",
    "            )\\\n",
    "            .reset_index()\\\n",
    "            [[\"code\", \"tglang\", \"target\"]]\n",
    "    return df"
   ]
  },
  {
   "cell_type": "code",
   "execution_count": 64,
   "id": "c3ddd763-c788-45e0-8d03-381976ed4e56",
   "metadata": {},
   "outputs": [],
   "source": [
    "dataset_path = Path(\"../dataset_v1/data/tglang_dataset/Forest_Train.parquet\")"
   ]
  },
  {
   "cell_type": "code",
   "execution_count": 65,
   "id": "78b59fef-b694-456e-88d2-1a9321b47c7d",
   "metadata": {},
   "outputs": [
    {
     "data": {
      "text/plain": [
       "(28023, 3)"
      ]
     },
     "execution_count": 65,
     "metadata": {},
     "output_type": "execute_result"
    }
   ],
   "source": [
    "dataset = load_dataset(dataset_path, 1000)\n",
    "dataset.shape"
   ]
  },
  {
   "cell_type": "code",
   "execution_count": 7,
   "id": "d4fef835-650e-4bdf-a36b-f9e470c360e7",
   "metadata": {},
   "outputs": [
    {
     "data": {
      "text/plain": [
       "False"
      ]
     },
     "execution_count": 7,
     "metadata": {},
     "output_type": "execute_result"
    }
   ],
   "source": [
    "ord(\"a\"), ord(\"z\"), ord(\"A\"), ord(\"Z\")\n",
    "\n",
    "any(ord(c) in range(65, 91) or ord(c) in range(97, 123) for c in \"45 45 45 45 45 45454 [][][\")"
   ]
  },
  {
   "cell_type": "code",
   "execution_count": 56,
   "id": "deb68d92-ee39-4dfe-bc4e-fd8c3bbcc6f7",
   "metadata": {},
   "outputs": [
    {
     "name": "stdout",
     "output_type": "stream",
     "text": [
      "-=-=-=-=-=-=-=-=-=-==-=-=-=-=-=-\n",
      "\n",
      "TGLANG_LANGUAGE_OTHER\n",
      "\n",
      "0xD4bA53849dCa0C59AD647bE0d4F7B738e0c90F41\n"
     ]
    }
   ],
   "source": [
    "for idx, row in dataset[[\"tglang\", \"code\"]].sample(n = 1).iterrows():\n",
    "    print(\"-=-=-=-=-=-=-=-=-=-==-=-=-=-=-=-\")\n",
    "    print(\"\")\n",
    "    print(row[\"tglang\"])\n",
    "    print(\"\")\n",
    "    print(row[\"code\"])"
   ]
  }
 ],
 "metadata": {
  "kernelspec": {
   "display_name": "Python 3 (ipykernel)",
   "language": "python",
   "name": "python3"
  },
  "language_info": {
   "codemirror_mode": {
    "name": "ipython",
    "version": 3
   },
   "file_extension": ".py",
   "mimetype": "text/x-python",
   "name": "python",
   "nbconvert_exporter": "python",
   "pygments_lexer": "ipython3",
   "version": "3.10.13"
  }
 },
 "nbformat": 4,
 "nbformat_minor": 5
}
